{
 "cells": [
  {
   "cell_type": "markdown",
   "metadata": {},
   "source": [
    "## 2D visualization"
   ]
  },
  {
   "cell_type": "code",
   "execution_count": null,
   "metadata": {},
   "outputs": [],
   "source": [
    "import ee\n",
    "import geemap"
   ]
  },
  {
   "cell_type": "code",
   "execution_count": null,
   "metadata": {},
   "outputs": [],
   "source": [
    "Map = geemap.Map()\n",
    "Map"
   ]
  },
  {
   "cell_type": "code",
   "execution_count": null,
   "metadata": {},
   "outputs": [],
   "source": [
    "image = ee.Image('USGS/NED').select('elevation')\n",
    "vis_params = {\n",
    "    \"min\": 0,\n",
    "    \"max\": 4000,\n",
    "    \"palette\": ['006633', 'E5FFCC', '662A00', 'D8D8D8', 'F5F5F5'],\n",
    "}\n",
    "Map.addLayer(image, vis_params, 'NED')\n"
   ]
  },
  {
   "cell_type": "code",
   "execution_count": null,
   "metadata": {},
   "outputs": [],
   "source": []
  },
  {
   "cell_type": "code",
   "execution_count": null,
   "metadata": {},
   "outputs": [],
   "source": []
  },
  {
   "cell_type": "markdown",
   "metadata": {},
   "source": [
    "## 3D visualization"
   ]
  },
  {
   "cell_type": "code",
   "execution_count": null,
   "metadata": {},
   "outputs": [],
   "source": [
    "import ee\n",
    "import pydeck as pdk\n",
    "from pydeck_earthengine_layers import EarthEngineTerrainLayer"
   ]
  },
  {
   "cell_type": "code",
   "execution_count": null,
   "metadata": {},
   "outputs": [],
   "source": [
    "ee.Initialize()"
   ]
  },
  {
   "cell_type": "code",
   "execution_count": null,
   "metadata": {},
   "outputs": [],
   "source": [
    "image = ee.Image('USGS/3DEP/10m').select('elevation')\n",
    "terrain = ee.Image('USGS/3DEP/10m').select('elevation')\n",
    "# image = ee.Image('MERIT/Hydro/v1_0_1').select('elv')\n",
    "# terrain = ee.Image('MERIT/Hydro/v1_0_1').select('elv')\n"
   ]
  },
  {
   "cell_type": "code",
   "execution_count": null,
   "metadata": {},
   "outputs": [],
   "source": [
    "image.getInfo()"
   ]
  },
  {
   "cell_type": "code",
   "execution_count": null,
   "metadata": {},
   "outputs": [],
   "source": [
    "terrain.getInfo()"
   ]
  },
  {
   "cell_type": "code",
   "execution_count": null,
   "metadata": {},
   "outputs": [],
   "source": [
    "vis_params = {\n",
    "    \"min\": 0,\n",
    "    \"max\": 3800,\n",
    "    \"palette\": ['006633', 'E5FFCC', '662A00', 'D8D8D8', 'F5F5F5']\n",
    "}"
   ]
  },
  {
   "cell_type": "code",
   "execution_count": null,
   "metadata": {},
   "outputs": [],
   "source": [
    "ee_layer = EarthEngineTerrainLayer(image, terrain, vis_params, id=\"EETerrainLayer\")"
   ]
  },
  {
   "cell_type": "code",
   "execution_count": null,
   "metadata": {},
   "outputs": [],
   "source": [
    "ee_layer"
   ]
  },
  {
   "cell_type": "code",
   "execution_count": null,
   "metadata": {},
   "outputs": [],
   "source": [
    "view_state = pdk.ViewState(\n",
    "    latitude=36.15, longitude=-111.96, zoom=10.5, bearing=-66.16, pitch=60\n",
    ")\n",
    "\n",
    "r = pdk.Deck(layers=ee_layer, initial_view_state=view_state\n",
    "                #  map_style='mapbox://styles/mapbox/streets-v11'  # Mapbox Streets style\n",
    ")\n",
    "\n",
    "r.show()"
   ]
  },
  {
   "cell_type": "code",
   "execution_count": null,
   "metadata": {},
   "outputs": [],
   "source": [
    "42.44435704116091, 129.73581218350606"
   ]
  },
  {
   "cell_type": "code",
   "execution_count": null,
   "metadata": {},
   "outputs": [],
   "source": []
  },
  {
   "cell_type": "code",
   "execution_count": null,
   "metadata": {},
   "outputs": [],
   "source": []
  },
  {
   "cell_type": "code",
   "execution_count": null,
   "metadata": {},
   "outputs": [],
   "source": [
    "import geemap\n",
    "import ee\n",
    "\n",
    "# Initialize the map\n",
    "Map = geemap.Map()\n",
    "\n",
    "# Set the map center and zoom level manually\n",
    "Map.setCenter(lon=-111.96, lat=36.15, zoom=10)\n",
    "\n",
    "\n",
    "# Load the image\n",
    "image = ee.Image('USGS/3DEP/10m').select('elevation')\n",
    "\n",
    "# Set up visualization parameters\n",
    "vis_params = {\n",
    "    \"min\": 0,\n",
    "    \"max\": 4000,\n",
    "    \"palette\": ['006633', 'E5FFCC', '662A00', 'D8D8D8', 'F5F5F5'],\n",
    "}\n",
    "\n",
    "# Add the image layer to the map\n",
    "Map.addLayer(image, vis_params, \"Elevation\")\n",
    "\n",
    "# Set the map center and zoom level\n",
    "Map.centerObject(image, 10)\n",
    "\n",
    "# Display the map\n",
    "Map\n"
   ]
  },
  {
   "cell_type": "code",
   "execution_count": null,
   "metadata": {},
   "outputs": [],
   "source": [
    "import geemap\n",
    "import ee"
   ]
  },
  {
   "cell_type": "code",
   "execution_count": null,
   "metadata": {},
   "outputs": [],
   "source": [
    "# A digital elevation model.\n",
    "dem = ee.Image('NASA/NASADEM_HGT/001').select('elevation')\n",
    "\n",
    "# Calculate slope. Units are degrees, range is [0,90).\n",
    "slope = ee.Terrain.slope(dem)\n",
    "\n",
    "# Calculate aspect. Units are degrees where 0=N, 90=E, 180=S, 270=W.\n",
    "aspect = ee.Terrain.aspect(dem)\n",
    "\n",
    "# Display slope and aspect layers on the map.\n",
    "m = geemap.Map()\n",
    "m.set_center(-123.457, 47.815, 11)\n",
    "m.add_layer(slope, {'min': 0, 'max': 89.99}, 'Slope')\n",
    "m.add_layer(aspect, {'min': 0, 'max': 359.99}, 'Aspect')\n",
    "\n",
    "# Use the ee.Terrain.products function to calculate slope, aspect, and\n",
    "# hillshade simultaneously. The output bands are appended to the input image.\n",
    "# Hillshade is calculated based on illumination azimuth=270, elevation=45.\n",
    "terrain = ee.Terrain.products(dem)\n",
    "display('ee.Terrain.products bands', terrain.bandNames())\n",
    "m.add_layer(terrain.select('hillshade'), {'min': 0, 'max': 255}, 'Hillshade')\n",
    "m"
   ]
  },
  {
   "cell_type": "code",
   "execution_count": null,
   "metadata": {},
   "outputs": [],
   "source": [
    "ee.Initialize()"
   ]
  },
  {
   "cell_type": "code",
   "execution_count": null,
   "metadata": {},
   "outputs": [],
   "source": [
    "pdk.Deck.mapbox_key = \"pk.eyJ1IjoiZ2lnaXN1bmciLCJhIjoiY2xlMGhpM2hpMTV6dzNwbG9jN3g1bGg1MSJ9.za7zD76Y5ONC4-AFcERn_A\"\n"
   ]
  },
  {
   "cell_type": "code",
   "execution_count": 3,
   "metadata": {},
   "outputs": [
    {
     "data": {
      "text/html": [
       "\n",
       "            <style>\n",
       "                .geemap-dark {\n",
       "                    --jp-widgets-color: white;\n",
       "                    --jp-widgets-label-color: white;\n",
       "                    --jp-ui-font-color1: white;\n",
       "                    --jp-layout-color2: #454545;\n",
       "                    background-color: #383838;\n",
       "                }\n",
       "                    \n",
       "                .geemap-dark .jupyter-button {\n",
       "                    --jp-layout-color3: #383838;\n",
       "                }\n",
       "                \n",
       "                .geemap-colab {\n",
       "                    background-color: var(--colab-primary-surface-color, white);\n",
       "                }\n",
       "                    \n",
       "                .geemap-colab .jupyter-button {\n",
       "                    --jp-layout-color3: var(--colab-primary-surface-color, white);\n",
       "                }\n",
       "            </style>\n",
       "            "
      ],
      "text/plain": [
       "<IPython.core.display.HTML object>"
      ]
     },
     "metadata": {},
     "output_type": "display_data"
    },
    {
     "data": {
      "text/html": [
       "\n",
       "        <iframe\n",
       "            width=\"100%\"\n",
       "            height=500\n",
       "            frameborder=\"0\"\n",
       "            srcdoc=\"&lt;!DOCTYPE html&gt;\n",
       "&lt;html&gt;\n",
       "  &lt;head&gt;\n",
       "    &lt;meta http-equiv=&quot;content-type&quot; content=&quot;text/html; charset=UTF-8&quot; /&gt;\n",
       "    &lt;title&gt;pydeck&lt;/title&gt;\n",
       "        &lt;script src=&quot;https://api.tiles.mapbox.com/mapbox-gl-js/v1.13.0/mapbox-gl.js&quot;&gt;&lt;/script&gt;\n",
       "        &lt;link rel=&quot;stylesheet&quot; href=&quot;https://maxcdn.bootstrapcdn.com/bootstrap/3.2.0/css/bootstrap-theme.min.css&quot; /&gt;\n",
       "    &lt;link rel=&quot;stylesheet&quot; href=&quot;https://maxcdn.bootstrapcdn.com/font-awesome/4.6.3/css/font-awesome.min.css&quot; /&gt;\n",
       "    &lt;script src=&#x27;https://cdn.jsdelivr.net/npm/@deck.gl/jupyter-widget@~8.8.*/dist/index.js&#x27;&gt;&lt;/script&gt;\n",
       "    &lt;style&gt;\n",
       "    body {\n",
       "  margin: 0;\n",
       "  padding: 0;\n",
       "  overflow: hidden;\n",
       "}\n",
       "\n",
       "#deck-container {\n",
       "  width: 100vw;\n",
       "  height: 100vh;\n",
       "}\n",
       "\n",
       "#deck-container canvas {\n",
       "  z-index: 1;\n",
       "  background: none;\n",
       "}\n",
       "    &lt;/style&gt;\n",
       "  &lt;/head&gt;\n",
       "  &lt;body&gt;\n",
       "    &lt;div id=&quot;deck-container&quot;&gt;\n",
       "    &lt;/div&gt;\n",
       "  &lt;/body&gt;\n",
       "  &lt;script&gt;\n",
       "    const container = document.getElementById(&#x27;deck-container&#x27;);\n",
       "    const jsonInput = {\n",
       "  &quot;initialViewState&quot;: {\n",
       "    &quot;bearing&quot;: 0,\n",
       "    &quot;latitude&quot;: 37.7749295,\n",
       "    &quot;longitude&quot;: -122.4194155,\n",
       "    &quot;pitch&quot;: 45,\n",
       "    &quot;zoom&quot;: 10\n",
       "  },\n",
       "  &quot;layers&quot;: [\n",
       "    {\n",
       "      &quot;@@type&quot;: &quot;EarthEngineLayer&quot;,\n",
       "      &quot;_token&quot;: &quot;ya29.a0AfB_byCW-3dlE6dSMvezfrRFJjV3jd2VWZjBDl85Gh0DheVAWPnYZJip-XQwCtakknEwUf1f5Nnb7lTRto7MnJW6F8jf4Eoq9QETbERgY-z2wUnscddj56kdpbH_vRvRLHFgwl-B6YuDvC1LfAGwtoy5nWhvQx33F595nAaCgYKAfcSARMSFQGOcNnClCblSseJLR4L46WnwNcp8w0173&quot;,\n",
       "      &quot;eeObject&quot;: &quot;{\\&quot;result\\&quot;: \\&quot;0\\&quot;, \\&quot;values\\&quot;: {\\&quot;0\\&quot;: {\\&quot;functionInvocationValue\\&quot;: {\\&quot;functionName\\&quot;: \\&quot;Image.load\\&quot;, \\&quot;arguments\\&quot;: {\\&quot;id\\&quot;: {\\&quot;constantValue\\&quot;: \\&quot;CGIAR/SRTM90_V4\\&quot;}}}}}}&quot;,\n",
       "      &quot;id&quot;: &quot;a546cf82-b9a6-447a-a04f-34efcee91793&quot;,\n",
       "      &quot;visParams&quot;: {\n",
       "        &quot;max&quot;: 8000,\n",
       "        &quot;min&quot;: -400,\n",
       "        &quot;palette&quot;: [\n",
       "          &quot;006633&quot;,\n",
       "          &quot;E5FFCC&quot;,\n",
       "          &quot;662A00&quot;,\n",
       "          &quot;D8D8D8&quot;,\n",
       "          &quot;F5F5F5&quot;\n",
       "        ]\n",
       "      }\n",
       "    }\n",
       "  ],\n",
       "  &quot;mapProvider&quot;: &quot;carto&quot;,\n",
       "  &quot;mapStyle&quot;: &quot;https://basemaps.cartocdn.com/gl/dark-matter-gl-style/style.json&quot;,\n",
       "  &quot;views&quot;: [\n",
       "    {\n",
       "      &quot;@@type&quot;: &quot;MapView&quot;,\n",
       "      &quot;controller&quot;: true\n",
       "    }\n",
       "  ]\n",
       "};\n",
       "    const tooltip = true;\n",
       "    const customLibraries = [{&#x27;libraryName&#x27;: &#x27;EarthEngineLayerLibrary&#x27;, &#x27;resourceUri&#x27;: &#x27;https://unpkg.com/@unfolded.gl/earthengine-layers@1.2.1/dist/pydeck_layer_module.min.js&#x27;}];\n",
       "    const configuration = null;\n",
       "\n",
       "    const deckInstance = createDeck({\n",
       "                  container,\n",
       "      jsonInput,\n",
       "      tooltip,\n",
       "      customLibraries,\n",
       "      configuration\n",
       "    });\n",
       "\n",
       "  &lt;/script&gt;\n",
       "&lt;/html&gt;\"\n",
       "        ></iframe>\n",
       "    "
      ],
      "text/plain": [
       "{\n",
       "  \"initialViewState\": {\n",
       "    \"bearing\": 0,\n",
       "    \"latitude\": 37.7749295,\n",
       "    \"longitude\": -122.4194155,\n",
       "    \"pitch\": 45,\n",
       "    \"zoom\": 10\n",
       "  },\n",
       "  \"layers\": [\n",
       "    {\n",
       "      \"@@type\": \"EarthEngineLayer\",\n",
       "      \"_token\": \"ya29.a0AfB_byCW-3dlE6dSMvezfrRFJjV3jd2VWZjBDl85Gh0DheVAWPnYZJip-XQwCtakknEwUf1f5Nnb7lTRto7MnJW6F8jf4Eoq9QETbERgY-z2wUnscddj56kdpbH_vRvRLHFgwl-B6YuDvC1LfAGwtoy5nWhvQx33F595nAaCgYKAfcSARMSFQGOcNnClCblSseJLR4L46WnwNcp8w0173\",\n",
       "      \"eeObject\": \"{\\\"result\\\": \\\"0\\\", \\\"values\\\": {\\\"0\\\": {\\\"functionInvocationValue\\\": {\\\"functionName\\\": \\\"Image.load\\\", \\\"arguments\\\": {\\\"id\\\": {\\\"constantValue\\\": \\\"CGIAR/SRTM90_V4\\\"}}}}}}\",\n",
       "      \"id\": \"a546cf82-b9a6-447a-a04f-34efcee91793\",\n",
       "      \"visParams\": {\n",
       "        \"max\": 8000,\n",
       "        \"min\": -400,\n",
       "        \"palette\": [\n",
       "          \"006633\",\n",
       "          \"E5FFCC\",\n",
       "          \"662A00\",\n",
       "          \"D8D8D8\",\n",
       "          \"F5F5F5\"\n",
       "        ]\n",
       "      }\n",
       "    }\n",
       "  ],\n",
       "  \"mapProvider\": \"carto\",\n",
       "  \"mapStyle\": \"https://basemaps.cartocdn.com/gl/dark-matter-gl-style/style.json\",\n",
       "  \"views\": [\n",
       "    {\n",
       "      \"@@type\": \"MapView\",\n",
       "      \"controller\": true\n",
       "    }\n",
       "  ]\n",
       "}"
      ]
     },
     "execution_count": 3,
     "metadata": {},
     "output_type": "execute_result"
    }
   ],
   "source": [
    "from pydeck_earthengine_layers import EarthEngineLayer\n",
    "import geemap.deck as geemap\n",
    "import pydeck as pdk\n",
    "import ee\n",
    "\n",
    "# Initialize Earth Engine library\n",
    "try:\n",
    "    ee.Initialize()\n",
    "except Exception as e:\n",
    "    ee.Authenticate()\n",
    "    ee.Initialize()\n",
    "\n",
    "# Create an Earth Engine object\n",
    "image = ee.Image('CGIAR/SRTM90_V4')\n",
    "\n",
    "# Define Earth Engine visualization parameters\n",
    "vis_params = {\n",
    "    \"min\": -400,\n",
    "    \"max\": 8000,\n",
    "    'palette': ['006633', 'E5FFCC', '662A00', 'D8D8D8', 'F5F5F5'],\n",
    "}\n",
    "\n",
    "# Create a pydeck EarthEngineLayer object, using the Earth Engine object and\n",
    "# desired visualization parameters\n",
    "ee_layer = EarthEngineLayer(image, vis_params)\n",
    "\n",
    "# Define the initial viewport for the map\n",
    "view_state = pdk.ViewState(\n",
    "    latitude=37.7749295, longitude=-122.4194155, zoom=10, bearing=0, pitch=45\n",
    ")\n",
    "\n",
    "# Specify a Mapbox style URL\n",
    "\n",
    "# Create a Deck instance, and display in Jupyter\n",
    "r = pdk.Deck(layers=[ee_layer], initial_view_state=view_state)\n",
    "r"
   ]
  },
  {
   "cell_type": "code",
   "execution_count": null,
   "metadata": {},
   "outputs": [],
   "source": []
  },
  {
   "cell_type": "code",
   "execution_count": 4,
   "metadata": {},
   "outputs": [
    {
     "data": {
      "text/html": [
       "\n",
       "            <style>\n",
       "                .geemap-dark {\n",
       "                    --jp-widgets-color: white;\n",
       "                    --jp-widgets-label-color: white;\n",
       "                    --jp-ui-font-color1: white;\n",
       "                    --jp-layout-color2: #454545;\n",
       "                    background-color: #383838;\n",
       "                }\n",
       "                    \n",
       "                .geemap-dark .jupyter-button {\n",
       "                    --jp-layout-color3: #383838;\n",
       "                }\n",
       "                \n",
       "                .geemap-colab {\n",
       "                    background-color: var(--colab-primary-surface-color, white);\n",
       "                }\n",
       "                    \n",
       "                .geemap-colab .jupyter-button {\n",
       "                    --jp-layout-color3: var(--colab-primary-surface-color, white);\n",
       "                }\n",
       "            </style>\n",
       "            "
      ],
      "text/plain": [
       "<IPython.core.display.HTML object>"
      ]
     },
     "metadata": {},
     "output_type": "display_data"
    }
   ],
   "source": [
    "import os\n",
    "import leafmap"
   ]
  },
  {
   "cell_type": "code",
   "execution_count": 5,
   "metadata": {},
   "outputs": [
    {
     "data": {
      "text/html": [
       "\n",
       "            <style>\n",
       "                .geemap-dark {\n",
       "                    --jp-widgets-color: white;\n",
       "                    --jp-widgets-label-color: white;\n",
       "                    --jp-ui-font-color1: white;\n",
       "                    --jp-layout-color2: #454545;\n",
       "                    background-color: #383838;\n",
       "                }\n",
       "                    \n",
       "                .geemap-dark .jupyter-button {\n",
       "                    --jp-layout-color3: #383838;\n",
       "                }\n",
       "                \n",
       "                .geemap-colab {\n",
       "                    background-color: var(--colab-primary-surface-color, white);\n",
       "                }\n",
       "                    \n",
       "                .geemap-colab .jupyter-button {\n",
       "                    --jp-layout-color3: var(--colab-primary-surface-color, white);\n",
       "                }\n",
       "            </style>\n",
       "            "
      ],
      "text/plain": [
       "<IPython.core.display.HTML object>"
      ]
     },
     "metadata": {},
     "output_type": "display_data"
    }
   ],
   "source": [
    "url = 'https://open.gishub.org/data/raster/srtm90.tif'"
   ]
  },
  {
   "cell_type": "code",
   "execution_count": 6,
   "metadata": {},
   "outputs": [
    {
     "data": {
      "text/html": [
       "\n",
       "            <style>\n",
       "                .geemap-dark {\n",
       "                    --jp-widgets-color: white;\n",
       "                    --jp-widgets-label-color: white;\n",
       "                    --jp-ui-font-color1: white;\n",
       "                    --jp-layout-color2: #454545;\n",
       "                    background-color: #383838;\n",
       "                }\n",
       "                    \n",
       "                .geemap-dark .jupyter-button {\n",
       "                    --jp-layout-color3: #383838;\n",
       "                }\n",
       "                \n",
       "                .geemap-colab {\n",
       "                    background-color: var(--colab-primary-surface-color, white);\n",
       "                }\n",
       "                    \n",
       "                .geemap-colab .jupyter-button {\n",
       "                    --jp-layout-color3: var(--colab-primary-surface-color, white);\n",
       "                }\n",
       "            </style>\n",
       "            "
      ],
      "text/plain": [
       "<IPython.core.display.HTML object>"
      ]
     },
     "metadata": {},
     "output_type": "display_data"
    }
   ],
   "source": [
    "image = 'dem_output.tif'\n",
    "if not os.path.exists(image):\n",
    "    leafmap.download_file(url, image)"
   ]
  },
  {
   "cell_type": "code",
   "execution_count": 7,
   "metadata": {},
   "outputs": [
    {
     "data": {
      "text/html": [
       "\n",
       "            <style>\n",
       "                .geemap-dark {\n",
       "                    --jp-widgets-color: white;\n",
       "                    --jp-widgets-label-color: white;\n",
       "                    --jp-ui-font-color1: white;\n",
       "                    --jp-layout-color2: #454545;\n",
       "                    background-color: #383838;\n",
       "                }\n",
       "                    \n",
       "                .geemap-dark .jupyter-button {\n",
       "                    --jp-layout-color3: #383838;\n",
       "                }\n",
       "                \n",
       "                .geemap-colab {\n",
       "                    background-color: var(--colab-primary-surface-color, white);\n",
       "                }\n",
       "                    \n",
       "                .geemap-colab .jupyter-button {\n",
       "                    --jp-layout-color3: var(--colab-primary-surface-color, white);\n",
       "                }\n",
       "            </style>\n",
       "            "
      ],
      "text/plain": [
       "<IPython.core.display.HTML object>"
      ]
     },
     "metadata": {},
     "output_type": "display_data"
    },
    {
     "data": {
      "text/plain": [
       "'dem_output.tif'"
      ]
     },
     "execution_count": 7,
     "metadata": {},
     "output_type": "execute_result"
    }
   ],
   "source": [
    "image"
   ]
  },
  {
   "cell_type": "code",
   "execution_count": 10,
   "metadata": {},
   "outputs": [
    {
     "data": {
      "text/html": [
       "\n",
       "            <style>\n",
       "                .geemap-dark {\n",
       "                    --jp-widgets-color: white;\n",
       "                    --jp-widgets-label-color: white;\n",
       "                    --jp-ui-font-color1: white;\n",
       "                    --jp-layout-color2: #454545;\n",
       "                    background-color: #383838;\n",
       "                }\n",
       "                    \n",
       "                .geemap-dark .jupyter-button {\n",
       "                    --jp-layout-color3: #383838;\n",
       "                }\n",
       "                \n",
       "                .geemap-colab {\n",
       "                    background-color: var(--colab-primary-surface-color, white);\n",
       "                }\n",
       "                    \n",
       "                .geemap-colab .jupyter-button {\n",
       "                    --jp-layout-color3: var(--colab-primary-surface-color, white);\n",
       "                }\n",
       "            </style>\n",
       "            "
      ],
      "text/plain": [
       "<IPython.core.display.HTML object>"
      ]
     },
     "metadata": {},
     "output_type": "display_data"
    },
    {
     "data": {
      "image/png": "[encoded data removed]",
      "text/plain": [
       "<Figure size 1500x1000 with 2 Axes>"
      ]
     },
     "metadata": {},
     "output_type": "display_data"
    }
   ],
   "source": [
    "leafmap.plot_raster(image, cmap='terrain', figsize=(15, 10))\n"
   ]
  },
  {
   "cell_type": "code",
   "execution_count": 9,
   "metadata": {},
   "outputs": [
    {
     "data": {
      "text/html": [
       "\n",
       "            <style>\n",
       "                .geemap-dark {\n",
       "                    --jp-widgets-color: white;\n",
       "                    --jp-widgets-label-color: white;\n",
       "                    --jp-ui-font-color1: white;\n",
       "                    --jp-layout-color2: #454545;\n",
       "                    background-color: #383838;\n",
       "                }\n",
       "                    \n",
       "                .geemap-dark .jupyter-button {\n",
       "                    --jp-layout-color3: #383838;\n",
       "                }\n",
       "                \n",
       "                .geemap-colab {\n",
       "                    background-color: var(--colab-primary-surface-color, white);\n",
       "                }\n",
       "                    \n",
       "                .geemap-colab .jupyter-button {\n",
       "                    --jp-layout-color3: var(--colab-primary-surface-color, white);\n",
       "                }\n",
       "            </style>\n",
       "            "
      ],
      "text/plain": [
       "<IPython.core.display.HTML object>"
      ]
     },
     "metadata": {},
     "output_type": "display_data"
    },
    {
     "name": "stdout",
     "output_type": "stream",
     "text": [
      "Requirement already satisfied: rioxarray in /Users/gigisung/anaconda3/envs/geo/lib/python3.11/site-packages (0.15.0)\n",
      "Collecting pyvista-xarray\n",
      "  Downloading pyvista_xarray-0.1.5-py3-none-any.whl.metadata (6.2 kB)\n",
      "Requirement already satisfied: packaging in /Users/gigisung/anaconda3/envs/geo/lib/python3.11/site-packages (from rioxarray) (23.2)\n",
      "Requirement already satisfied: rasterio>=1.2 in /Users/gigisung/anaconda3/envs/geo/lib/python3.11/site-packages (from rioxarray) (1.3.9)\n",
      "Requirement already satisfied: xarray>=0.17 in /Users/gigisung/anaconda3/envs/geo/lib/python3.11/site-packages (from rioxarray) (2023.10.1)\n",
      "Requirement already satisfied: pyproj>=2.2 in /Users/gigisung/anaconda3/envs/geo/lib/python3.11/site-packages (from rioxarray) (3.6.1)\n",
      "Requirement already satisfied: numpy>=1.21 in /Users/gigisung/anaconda3/envs/geo/lib/python3.11/site-packages (from rioxarray) (1.24.4)\n",
      "Collecting pyvista>=0.37 (from pyvista-xarray)\n",
      "  Downloading pyvista-0.42.3-py3-none-any.whl.metadata (13 kB)\n",
      "Requirement already satisfied: scooby in /Users/gigisung/anaconda3/envs/geo/lib/python3.11/site-packages (from pyvista-xarray) (0.9.2)\n",
      "Requirement already satisfied: certifi in /Users/gigisung/anaconda3/envs/geo/lib/python3.11/site-packages (from pyproj>=2.2->rioxarray) (2023.7.22)\n",
      "Requirement already satisfied: matplotlib>=3.0.1 in /Users/gigisung/anaconda3/envs/geo/lib/python3.11/site-packages (from pyvista>=0.37->pyvista-xarray) (3.8.0)\n",
      "Requirement already satisfied: pillow in /Users/gigisung/anaconda3/envs/geo/lib/python3.11/site-packages (from pyvista>=0.37->pyvista-xarray) (10.1.0)\n",
      "Collecting pooch (from pyvista>=0.37->pyvista-xarray)\n",
      "  Downloading pooch-1.8.0-py3-none-any.whl.metadata (9.9 kB)\n",
      "Collecting vtk (from pyvista>=0.37->pyvista-xarray)\n",
      "  Downloading vtk-9.2.6-cp311-cp311-macosx_10_10_x86_64.whl (64.0 MB)\n",
      "\u001b[2K     \u001b[90m━━━━━━━━━━━━━━━━━━━━━━━━━━━━━━━━━━━━━━━━\u001b[0m \u001b[32m64.0/64.0 MB\u001b[0m \u001b[31m1.8 MB/s\u001b[0m eta \u001b[36m0:00:00\u001b[0m00:01\u001b[0m00:01\u001b[0m\n",
      "\u001b[?25hRequirement already satisfied: affine in /Users/gigisung/anaconda3/envs/geo/lib/python3.11/site-packages (from rasterio>=1.2->rioxarray) (2.4.0)\n",
      "Requirement already satisfied: attrs in /Users/gigisung/anaconda3/envs/geo/lib/python3.11/site-packages (from rasterio>=1.2->rioxarray) (23.1.0)\n",
      "Requirement already satisfied: click>=4.0 in /Users/gigisung/anaconda3/envs/geo/lib/python3.11/site-packages (from rasterio>=1.2->rioxarray) (8.1.7)\n",
      "Requirement already satisfied: cligj>=0.5 in /Users/gigisung/anaconda3/envs/geo/lib/python3.11/site-packages (from rasterio>=1.2->rioxarray) (0.7.2)\n",
      "Requirement already satisfied: snuggs>=1.4.1 in /Users/gigisung/anaconda3/envs/geo/lib/python3.11/site-packages (from rasterio>=1.2->rioxarray) (1.4.7)\n",
      "Requirement already satisfied: click-plugins in /Users/gigisung/anaconda3/envs/geo/lib/python3.11/site-packages (from rasterio>=1.2->rioxarray) (1.1.1)\n",
      "Requirement already satisfied: setuptools in /Users/gigisung/anaconda3/envs/geo/lib/python3.11/site-packages (from rasterio>=1.2->rioxarray) (68.2.2)\n",
      "Requirement already satisfied: pandas>=1.4 in /Users/gigisung/anaconda3/envs/geo/lib/python3.11/site-packages (from xarray>=0.17->rioxarray) (1.5.3)\n",
      "Requirement already satisfied: contourpy>=1.0.1 in /Users/gigisung/anaconda3/envs/geo/lib/python3.11/site-packages (from matplotlib>=3.0.1->pyvista>=0.37->pyvista-xarray) (1.1.1)\n",
      "Requirement already satisfied: cycler>=0.10 in /Users/gigisung/anaconda3/envs/geo/lib/python3.11/site-packages (from matplotlib>=3.0.1->pyvista>=0.37->pyvista-xarray) (0.12.1)\n",
      "Requirement already satisfied: fonttools>=4.22.0 in /Users/gigisung/anaconda3/envs/geo/lib/python3.11/site-packages (from matplotlib>=3.0.1->pyvista>=0.37->pyvista-xarray) (4.43.1)\n",
      "Requirement already satisfied: kiwisolver>=1.0.1 in /Users/gigisung/anaconda3/envs/geo/lib/python3.11/site-packages (from matplotlib>=3.0.1->pyvista>=0.37->pyvista-xarray) (1.4.5)\n",
      "Requirement already satisfied: pyparsing>=2.3.1 in /Users/gigisung/anaconda3/envs/geo/lib/python3.11/site-packages (from matplotlib>=3.0.1->pyvista>=0.37->pyvista-xarray) (3.1.1)\n",
      "Requirement already satisfied: python-dateutil>=2.7 in /Users/gigisung/anaconda3/envs/geo/lib/python3.11/site-packages (from matplotlib>=3.0.1->pyvista>=0.37->pyvista-xarray) (2.8.2)\n",
      "Requirement already satisfied: pytz>=2020.1 in /Users/gigisung/anaconda3/envs/geo/lib/python3.11/site-packages (from pandas>=1.4->xarray>=0.17->rioxarray) (2023.3.post1)\n",
      "Requirement already satisfied: platformdirs>=2.5.0 in /Users/gigisung/anaconda3/envs/geo/lib/python3.11/site-packages (from pooch->pyvista>=0.37->pyvista-xarray) (3.11.0)\n",
      "Requirement already satisfied: requests>=2.19.0 in /Users/gigisung/anaconda3/envs/geo/lib/python3.11/site-packages (from pooch->pyvista>=0.37->pyvista-xarray) (2.31.0)\n",
      "Requirement already satisfied: six>=1.5 in /Users/gigisung/anaconda3/envs/geo/lib/python3.11/site-packages (from python-dateutil>=2.7->matplotlib>=3.0.1->pyvista>=0.37->pyvista-xarray) (1.16.0)\n",
      "Requirement already satisfied: charset-normalizer<4,>=2 in /Users/gigisung/anaconda3/envs/geo/lib/python3.11/site-packages (from requests>=2.19.0->pooch->pyvista>=0.37->pyvista-xarray) (3.3.1)\n",
      "Requirement already satisfied: idna<4,>=2.5 in /Users/gigisung/anaconda3/envs/geo/lib/python3.11/site-packages (from requests>=2.19.0->pooch->pyvista>=0.37->pyvista-xarray) (3.4)\n",
      "Requirement already satisfied: urllib3<3,>=1.21.1 in /Users/gigisung/anaconda3/envs/geo/lib/python3.11/site-packages (from requests>=2.19.0->pooch->pyvista>=0.37->pyvista-xarray) (2.0.7)\n",
      "Downloading pyvista_xarray-0.1.5-py3-none-any.whl (17 kB)\n",
      "Downloading pyvista-0.42.3-py3-none-any.whl (1.6 MB)\n",
      "\u001b[2K   \u001b[90m━━━━━━━━━━━━━━━━━━━━━━━━━━━━━━━━━━━━━━━━\u001b[0m \u001b[32m1.6/1.6 MB\u001b[0m \u001b[31m3.7 MB/s\u001b[0m eta \u001b[36m0:00:00\u001b[0ma \u001b[36m0:00:01\u001b[0m\n",
      "\u001b[?25hDownloading pooch-1.8.0-py3-none-any.whl (62 kB)\n",
      "\u001b[2K   \u001b[90m━━━━━━━━━━━━━━━━━━━━━━━━━━━━━━━━━━━━━━━━\u001b[0m \u001b[32m62.7/62.7 kB\u001b[0m \u001b[31m2.3 MB/s\u001b[0m eta \u001b[36m0:00:00\u001b[0m\n",
      "\u001b[?25hInstalling collected packages: pooch, vtk, pyvista, pyvista-xarray\n",
      "Successfully installed pooch-1.8.0 pyvista-0.42.3 pyvista-xarray-0.1.5 vtk-9.2.6\n"
     ]
    }
   ],
   "source": [
    "!pip install rioxarray pyvista-xarray\n"
   ]
  },
  {
   "cell_type": "code",
   "execution_count": null,
   "metadata": {},
   "outputs": [],
   "source": []
  }
 ],
 "metadata": {
  "kernelspec": {
   "display_name": "Python 3 (ipykernel)",
   "language": "python",
   "name": "python3"
  },
  "language_info": {
   "codemirror_mode": {
    "name": "ipython",
    "version": 3
   },
   "file_extension": ".py",
   "mimetype": "text/x-python",
   "name": "python",
   "nbconvert_exporter": "python",
   "pygments_lexer": "ipython3",
   "version": "3.11.6"
  }
 },
 "nbformat": 4,
 "nbformat_minor": 4
}
