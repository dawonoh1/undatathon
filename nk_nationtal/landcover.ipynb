{
 "cells": [
  {
   "cell_type": "code",
   "execution_count": 1,
   "metadata": {},
   "outputs": [],
   "source": [
    "import ee\n",
    "import geemap\n",
    "import geopandas as gpd"
   ]
  },
  {
   "cell_type": "code",
   "execution_count": 2,
   "metadata": {},
   "outputs": [
    {
     "data": {
      "text/html": [
       "\n",
       "            <style>\n",
       "                .geemap-dark {\n",
       "                    --jp-widgets-color: white;\n",
       "                    --jp-widgets-label-color: white;\n",
       "                    --jp-ui-font-color1: white;\n",
       "                    --jp-layout-color2: #454545;\n",
       "                    background-color: #383838;\n",
       "                }\n",
       "                    \n",
       "                .geemap-dark .jupyter-button {\n",
       "                    --jp-layout-color3: #383838;\n",
       "                }\n",
       "                \n",
       "                .geemap-colab {\n",
       "                    background-color: var(--colab-primary-surface-color, white);\n",
       "                }\n",
       "                    \n",
       "                .geemap-colab .jupyter-button {\n",
       "                    --jp-layout-color3: var(--colab-primary-surface-color, white);\n",
       "                }\n",
       "            </style>\n",
       "            "
      ],
      "text/plain": [
       "<IPython.core.display.HTML object>"
      ]
     },
     "metadata": {},
     "output_type": "display_data"
    }
   ],
   "source": [
    "geemap.ee_initialize()\n"
   ]
  },
  {
   "cell_type": "code",
   "execution_count": 9,
   "metadata": {},
   "outputs": [
    {
     "data": {
      "text/html": [
       "\n",
       "            <style>\n",
       "                .geemap-dark {\n",
       "                    --jp-widgets-color: white;\n",
       "                    --jp-widgets-label-color: white;\n",
       "                    --jp-ui-font-color1: white;\n",
       "                    --jp-layout-color2: #454545;\n",
       "                    background-color: #383838;\n",
       "                }\n",
       "                    \n",
       "                .geemap-dark .jupyter-button {\n",
       "                    --jp-layout-color3: #383838;\n",
       "                }\n",
       "                \n",
       "                .geemap-colab {\n",
       "                    background-color: var(--colab-primary-surface-color, white);\n",
       "                }\n",
       "                    \n",
       "                .geemap-colab .jupyter-button {\n",
       "                    --jp-layout-color3: var(--colab-primary-surface-color, white);\n",
       "                }\n",
       "            </style>\n",
       "            "
      ],
      "text/plain": [
       "<IPython.core.display.HTML object>"
      ]
     },
     "metadata": {},
     "output_type": "display_data"
    },
    {
     "data": {
      "text/plain": [
       "<Axes: >"
      ]
     },
     "execution_count": 9,
     "metadata": {},
     "output_type": "execute_result"
    },
    {
     "data": {
      "image/png": "[encoded data removed]",
      "text/plain": [
       "<Figure size 640x480 with 1 Axes>"
      ]
     },
     "metadata": {},
     "output_type": "display_data"
    }
   ],
   "source": [
    "nk_gdf=gpd.read_file('/Users/gigisung/gigi_git/undatathon/helperfile/nk_national_boundary.json')\n",
    "nk_gdf.plot()"
   ]
  },
  {
   "cell_type": "code",
   "execution_count": 27,
   "metadata": {},
   "outputs": [
    {
     "data": {
      "text/html": [
       "\n",
       "            <style>\n",
       "                .geemap-dark {\n",
       "                    --jp-widgets-color: white;\n",
       "                    --jp-widgets-label-color: white;\n",
       "                    --jp-ui-font-color1: white;\n",
       "                    --jp-layout-color2: #454545;\n",
       "                    background-color: #383838;\n",
       "                }\n",
       "                    \n",
       "                .geemap-dark .jupyter-button {\n",
       "                    --jp-layout-color3: #383838;\n",
       "                }\n",
       "                \n",
       "                .geemap-colab {\n",
       "                    background-color: var(--colab-primary-surface-color, white);\n",
       "                }\n",
       "                    \n",
       "                .geemap-colab .jupyter-button {\n",
       "                    --jp-layout-color3: var(--colab-primary-surface-color, white);\n",
       "                }\n",
       "            </style>\n",
       "            "
      ],
      "text/plain": [
       "<IPython.core.display.HTML object>"
      ]
     },
     "metadata": {},
     "output_type": "display_data"
    },
    {
     "data": {
      "application/vnd.jupyter.widget-view+json": {
       "model_id": "3df8fe9ad450458487d6e6d8dba1ca51",
       "version_major": 2,
       "version_minor": 0
      },
      "text/plain": [
       "Map(center=[0, 0], controls=(WidgetControl(options=['position', 'transparent_bg'], widget=SearchDataGUI(childr…"
      ]
     },
     "execution_count": 27,
     "metadata": {},
     "output_type": "execute_result"
    }
   ],
   "source": [
    "Map = geemap.Map()\n",
    "dataset = ee.ImageCollection(\"ESA/WorldCover/v100\").first()\n",
    "Map.addLayer(dataset, {'bands': ['Map']}, 'ESA Land Cover')\n",
    "# ee_object = geemap.geopandas_to_ee(nk_gdf)\n",
    "# Map.addLayer(ee_object, {}, 'South Korea Boundary')\n",
    "Map.add_legend(builtin_legend='ESA_WorldCover')\n",
    "\n",
    "Map"
   ]
  },
  {
   "cell_type": "code",
   "execution_count": 31,
   "metadata": {},
   "outputs": [
    {
     "data": {
      "text/html": [
       "\n",
       "            <style>\n",
       "                .geemap-dark {\n",
       "                    --jp-widgets-color: white;\n",
       "                    --jp-widgets-label-color: white;\n",
       "                    --jp-ui-font-color1: white;\n",
       "                    --jp-layout-color2: #454545;\n",
       "                    background-color: #383838;\n",
       "                }\n",
       "                    \n",
       "                .geemap-dark .jupyter-button {\n",
       "                    --jp-layout-color3: #383838;\n",
       "                }\n",
       "                \n",
       "                .geemap-colab {\n",
       "                    background-color: var(--colab-primary-surface-color, white);\n",
       "                }\n",
       "                    \n",
       "                .geemap-colab .jupyter-button {\n",
       "                    --jp-layout-color3: var(--colab-primary-surface-color, white);\n",
       "                }\n",
       "            </style>\n",
       "            "
      ],
      "text/plain": [
       "<IPython.core.display.HTML object>"
      ]
     },
     "metadata": {},
     "output_type": "display_data"
    },
    {
     "data": {
      "application/vnd.jupyter.widget-view+json": {
       "model_id": "3df8fe9ad450458487d6e6d8dba1ca51",
       "version_major": 2,
       "version_minor": 0
      },
      "text/plain": [
       "Map(bottom=6402.0, center=[41.672911819602085, 126.90307617187501], controls=(WidgetControl(options=['position…"
      ]
     },
     "execution_count": 31,
     "metadata": {},
     "output_type": "execute_result"
    }
   ],
   "source": [
    "# Define the coordinates for the polygon\n",
    "coordinates = [\n",
    "    [129.696351, 42.407487],\n",
    "    [129.696351, 42.450693],\n",
    "    [129.797631, 42.450693],\n",
    "    [129.797631, 42.407487],\n",
    "    [129.696351, 42.407487]\n",
    "]\n",
    "\n",
    "# Create the polygon object\n",
    "polygon = ee.Geometry.Polygon(coordinates, proj='EPSG:4326', geodesic=False)\n",
    "Map.addLayer(polygon, {}, 'hoerong')\n",
    "Map\n"
   ]
  },
  {
   "cell_type": "code",
   "execution_count": null,
   "metadata": {},
   "outputs": [],
   "source": []
  },
  {
   "cell_type": "markdown",
   "metadata": {},
   "source": [
    "## Clip and Download"
   ]
  },
  {
   "cell_type": "code",
   "execution_count": 29,
   "metadata": {},
   "outputs": [
    {
     "data": {
      "text/html": [
       "\n",
       "            <style>\n",
       "                .geemap-dark {\n",
       "                    --jp-widgets-color: white;\n",
       "                    --jp-widgets-label-color: white;\n",
       "                    --jp-ui-font-color1: white;\n",
       "                    --jp-layout-color2: #454545;\n",
       "                    background-color: #383838;\n",
       "                }\n",
       "                    \n",
       "                .geemap-dark .jupyter-button {\n",
       "                    --jp-layout-color3: #383838;\n",
       "                }\n",
       "                \n",
       "                .geemap-colab {\n",
       "                    background-color: var(--colab-primary-surface-color, white);\n",
       "                }\n",
       "                    \n",
       "                .geemap-colab .jupyter-button {\n",
       "                    --jp-layout-color3: var(--colab-primary-surface-color, white);\n",
       "                }\n",
       "            </style>\n",
       "            "
      ],
      "text/plain": [
       "<IPython.core.display.HTML object>"
      ]
     },
     "metadata": {},
     "output_type": "display_data"
    },
    {
     "data": {
      "application/vnd.jupyter.widget-view+json": {
       "model_id": "3df8fe9ad450458487d6e6d8dba1ca51",
       "version_major": 2,
       "version_minor": 0
      },
      "text/plain": [
       "Map(bottom=812.0, center=[0, 0], controls=(WidgetControl(options=['position', 'transparent_bg'], widget=Search…"
      ]
     },
     "execution_count": 29,
     "metadata": {},
     "output_type": "execute_result"
    }
   ],
   "source": [
    "# Get the bounding box of the GeoDataFrame\n",
    "bbox = nk_gdf.total_bounds\n",
    "\n",
    "# Create an Earth Engine geometry from the bounding box\n",
    "ee_bbox = ee.Geometry.Rectangle([bbox[0], bbox[1], bbox[2], bbox[3]])\n",
    "\n",
    "# Add the bounding box to the map\n",
    "Map.addLayer(ee_bbox, {}, 'Bounding Box')\n",
    "\n",
    "# Clip the image to the bounding box\n",
    "clipped_image = dataset.clip(ee_bbox)\n",
    "\n",
    "# Add the clipped image to the map\n",
    "Map.addLayer(clipped_image, {'bands': ['Map']}, 'Clipped ESA Land Cover')\n",
    "\n",
    "Map\n"
   ]
  },
  {
   "cell_type": "code",
   "execution_count": 32,
   "metadata": {},
   "outputs": [
    {
     "data": {
      "text/html": [
       "\n",
       "            <style>\n",
       "                .geemap-dark {\n",
       "                    --jp-widgets-color: white;\n",
       "                    --jp-widgets-label-color: white;\n",
       "                    --jp-ui-font-color1: white;\n",
       "                    --jp-layout-color2: #454545;\n",
       "                    background-color: #383838;\n",
       "                }\n",
       "                    \n",
       "                .geemap-dark .jupyter-button {\n",
       "                    --jp-layout-color3: #383838;\n",
       "                }\n",
       "                \n",
       "                .geemap-colab {\n",
       "                    background-color: var(--colab-primary-surface-color, white);\n",
       "                }\n",
       "                    \n",
       "                .geemap-colab .jupyter-button {\n",
       "                    --jp-layout-color3: var(--colab-primary-surface-color, white);\n",
       "                }\n",
       "            </style>\n",
       "            "
      ],
      "text/plain": [
       "<IPython.core.display.HTML object>"
      ]
     },
     "metadata": {},
     "output_type": "display_data"
    },
    {
     "data": {
      "application/vnd.jupyter.widget-view+json": {
       "model_id": "3df8fe9ad450458487d6e6d8dba1ca51",
       "version_major": 2,
       "version_minor": 0
      },
      "text/plain": [
       "Map(bottom=6402.0, center=[41.672911819602085, 126.90307617187501], controls=(WidgetControl(options=['position…"
      ]
     },
     "execution_count": 32,
     "metadata": {},
     "output_type": "execute_result"
    }
   ],
   "source": [
    "Map.centerObject(ee_bbox)\n",
    "Map"
   ]
  },
  {
   "cell_type": "code",
   "execution_count": 33,
   "metadata": {},
   "outputs": [
    {
     "data": {
      "text/html": [
       "\n",
       "            <style>\n",
       "                .geemap-dark {\n",
       "                    --jp-widgets-color: white;\n",
       "                    --jp-widgets-label-color: white;\n",
       "                    --jp-ui-font-color1: white;\n",
       "                    --jp-layout-color2: #454545;\n",
       "                    background-color: #383838;\n",
       "                }\n",
       "                    \n",
       "                .geemap-dark .jupyter-button {\n",
       "                    --jp-layout-color3: #383838;\n",
       "                }\n",
       "                \n",
       "                .geemap-colab {\n",
       "                    background-color: var(--colab-primary-surface-color, white);\n",
       "                }\n",
       "                    \n",
       "                .geemap-colab .jupyter-button {\n",
       "                    --jp-layout-color3: var(--colab-primary-surface-color, white);\n",
       "                }\n",
       "            </style>\n",
       "            "
      ],
      "text/plain": [
       "<IPython.core.display.HTML object>"
      ]
     },
     "metadata": {},
     "output_type": "display_data"
    }
   ],
   "source": [
    "features = geemap.fishnet(ee_bbox, rows=5, cols=5)\n",
    "Map.addLayer(features, {}, 'Grids')"
   ]
  },
  {
   "cell_type": "code",
   "execution_count": 35,
   "metadata": {},
   "outputs": [
    {
     "data": {
      "text/html": [
       "\n",
       "            <style>\n",
       "                .geemap-dark {\n",
       "                    --jp-widgets-color: white;\n",
       "                    --jp-widgets-label-color: white;\n",
       "                    --jp-ui-font-color1: white;\n",
       "                    --jp-layout-color2: #454545;\n",
       "                    background-color: #383838;\n",
       "                }\n",
       "                    \n",
       "                .geemap-dark .jupyter-button {\n",
       "                    --jp-layout-color3: #383838;\n",
       "                }\n",
       "                \n",
       "                .geemap-colab {\n",
       "                    background-color: var(--colab-primary-surface-color, white);\n",
       "                }\n",
       "                    \n",
       "                .geemap-colab .jupyter-button {\n",
       "                    --jp-layout-color3: var(--colab-primary-surface-color, white);\n",
       "                }\n",
       "            </style>\n",
       "            "
      ],
      "text/plain": [
       "<IPython.core.display.HTML object>"
      ]
     },
     "metadata": {},
     "output_type": "display_data"
    },
    {
     "name": "stdout",
     "output_type": "stream",
     "text": [
      "Downloading 1/31: /Users/gigisung/gigi_git/undatathon/nk_nationtal/tiles/landsat_01.tif\n"
     ]
    },
    {
     "data": {
      "application/vnd.jupyter.widget-view+json": {
       "model_id": "e7fa8fe0ed534364bd53fc690a012f1a",
       "version_major": 2,
       "version_minor": 0
      },
      "text/plain": [
       "landsat_01.tif: |          | 0.00/16.0M (raw) [  0.0%] in 00:00 (eta:     ?)"
      ]
     },
     "metadata": {},
     "output_type": "display_data"
    },
    {
     "name": "stdout",
     "output_type": "stream",
     "text": [
      "Downloading 2/31: /Users/gigisung/gigi_git/undatathon/nk_nationtal/tiles/landsat_02.tif\n"
     ]
    },
    {
     "data": {
      "application/vnd.jupyter.widget-view+json": {
       "model_id": "58287c7c000846909ed2b7925f3c9675",
       "version_major": 2,
       "version_minor": 0
      },
      "text/plain": [
       "landsat_02.tif: |          | 0.00/15.6M (raw) [  0.0%] in 00:00 (eta:     ?)"
      ]
     },
     "metadata": {},
     "output_type": "display_data"
    },
    {
     "name": "stdout",
     "output_type": "stream",
     "text": [
      "Downloading 3/31: /Users/gigisung/gigi_git/undatathon/nk_nationtal/tiles/landsat_03.tif\n"
     ]
    },
    {
     "data": {
      "application/vnd.jupyter.widget-view+json": {
       "model_id": "45ae2efab05941539a5aff18e25d210d",
       "version_major": 2,
       "version_minor": 0
      },
      "text/plain": [
       "landsat_03.tif: |          | 0.00/15.5M (raw) [  0.0%] in 00:00 (eta:     ?)"
      ]
     },
     "metadata": {},
     "output_type": "display_data"
    },
    {
     "name": "stdout",
     "output_type": "stream",
     "text": [
      "Downloading 4/31: /Users/gigisung/gigi_git/undatathon/nk_nationtal/tiles/landsat_04.tif\n"
     ]
    },
    {
     "data": {
      "application/vnd.jupyter.widget-view+json": {
       "model_id": "5ee2fc1f977340d195c5476ac6273db5",
       "version_major": 2,
       "version_minor": 0
      },
      "text/plain": [
       "landsat_04.tif: |          | 0.00/15.9M (raw) [  0.0%] in 00:00 (eta:     ?)"
      ]
     },
     "metadata": {},
     "output_type": "display_data"
    },
    {
     "name": "stdout",
     "output_type": "stream",
     "text": [
      "Downloading 5/31: /Users/gigisung/gigi_git/undatathon/nk_nationtal/tiles/landsat_05.tif\n"
     ]
    },
    {
     "data": {
      "application/vnd.jupyter.widget-view+json": {
       "model_id": "8f50c7a3ada1473aa5391ab6e41181ee",
       "version_major": 2,
       "version_minor": 0
      },
      "text/plain": [
       "landsat_05.tif: |          | 0.00/16.3M (raw) [  0.0%] in 00:00 (eta:     ?)"
      ]
     },
     "metadata": {},
     "output_type": "display_data"
    },
    {
     "name": "stdout",
     "output_type": "stream",
     "text": [
      "Downloading 6/31: /Users/gigisung/gigi_git/undatathon/nk_nationtal/tiles/landsat_06.tif\n"
     ]
    },
    {
     "data": {
      "application/vnd.jupyter.widget-view+json": {
       "model_id": "f02b1055f7124b179b7c1934c0224e3b",
       "version_major": 2,
       "version_minor": 0
      },
      "text/plain": [
       "landsat_06.tif: |          | 0.00/16.8M (raw) [  0.0%] in 00:00 (eta:     ?)"
      ]
     },
     "metadata": {},
     "output_type": "display_data"
    },
    {
     "name": "stdout",
     "output_type": "stream",
     "text": [
      "Downloading 7/31: /Users/gigisung/gigi_git/undatathon/nk_nationtal/tiles/landsat_07.tif\n"
     ]
    },
    {
     "data": {
      "application/vnd.jupyter.widget-view+json": {
       "model_id": "31b9b7ef700544d0a9a9571d3ef44dc3",
       "version_major": 2,
       "version_minor": 0
      },
      "text/plain": [
       "landsat_07.tif: |          | 0.00/15.8M (raw) [  0.0%] in 00:00 (eta:     ?)"
      ]
     },
     "metadata": {},
     "output_type": "display_data"
    },
    {
     "name": "stdout",
     "output_type": "stream",
     "text": [
      "Downloading 8/31: /Users/gigisung/gigi_git/undatathon/nk_nationtal/tiles/landsat_08.tif\n"
     ]
    },
    {
     "data": {
      "application/vnd.jupyter.widget-view+json": {
       "model_id": "ed7190d2868e4d809e83163fff6e1212",
       "version_major": 2,
       "version_minor": 0
      },
      "text/plain": [
       "landsat_08.tif: |          | 0.00/15.4M (raw) [  0.0%] in 00:00 (eta:     ?)"
      ]
     },
     "metadata": {},
     "output_type": "display_data"
    },
    {
     "name": "stdout",
     "output_type": "stream",
     "text": [
      "Downloading 9/31: /Users/gigisung/gigi_git/undatathon/nk_nationtal/tiles/landsat_09.tif\n"
     ]
    },
    {
     "data": {
      "application/vnd.jupyter.widget-view+json": {
       "model_id": "f88253ab9b2642ac94eac4677b834961",
       "version_major": 2,
       "version_minor": 0
      },
      "text/plain": [
       "landsat_09.tif: |          | 0.00/15.3M (raw) [  0.0%] in 00:00 (eta:     ?)"
      ]
     },
     "metadata": {},
     "output_type": "display_data"
    },
    {
     "name": "stdout",
     "output_type": "stream",
     "text": [
      "Downloading 10/31: /Users/gigisung/gigi_git/undatathon/nk_nationtal/tiles/landsat_10.tif\n"
     ]
    },
    {
     "data": {
      "application/vnd.jupyter.widget-view+json": {
       "model_id": "dcdf6626319f462e9ea59e993e717732",
       "version_major": 2,
       "version_minor": 0
      },
      "text/plain": [
       "landsat_10.tif: |          | 0.00/15.7M (raw) [  0.0%] in 00:00 (eta:     ?)"
      ]
     },
     "metadata": {},
     "output_type": "display_data"
    },
    {
     "name": "stdout",
     "output_type": "stream",
     "text": [
      "Downloading 11/31: /Users/gigisung/gigi_git/undatathon/nk_nationtal/tiles/landsat_11.tif\n"
     ]
    },
    {
     "data": {
      "application/vnd.jupyter.widget-view+json": {
       "model_id": "d08a0cd6a9ca40079cd4b707ccfdc9bc",
       "version_major": 2,
       "version_minor": 0
      },
      "text/plain": [
       "landsat_11.tif: |          | 0.00/16.1M (raw) [  0.0%] in 00:00 (eta:     ?)"
      ]
     },
     "metadata": {},
     "output_type": "display_data"
    },
    {
     "name": "stdout",
     "output_type": "stream",
     "text": [
      "Downloading 12/31: /Users/gigisung/gigi_git/undatathon/nk_nationtal/tiles/landsat_12.tif\n"
     ]
    },
    {
     "data": {
      "application/vnd.jupyter.widget-view+json": {
       "model_id": "a83ce689e9b9496c8e01682457b0e3f7",
       "version_major": 2,
       "version_minor": 0
      },
      "text/plain": [
       "landsat_12.tif: |          | 0.00/16.6M (raw) [  0.0%] in 00:00 (eta:     ?)"
      ]
     },
     "metadata": {},
     "output_type": "display_data"
    },
    {
     "name": "stdout",
     "output_type": "stream",
     "text": [
      "Downloading 13/31: /Users/gigisung/gigi_git/undatathon/nk_nationtal/tiles/landsat_13.tif\n"
     ]
    },
    {
     "data": {
      "application/vnd.jupyter.widget-view+json": {
       "model_id": "d41091a361824806af16280ea0cc5913",
       "version_major": 2,
       "version_minor": 0
      },
      "text/plain": [
       "landsat_13.tif: |          | 0.00/15.6M (raw) [  0.0%] in 00:00 (eta:     ?)"
      ]
     },
     "metadata": {},
     "output_type": "display_data"
    },
    {
     "name": "stdout",
     "output_type": "stream",
     "text": [
      "Downloading 14/31: /Users/gigisung/gigi_git/undatathon/nk_nationtal/tiles/landsat_14.tif\n"
     ]
    },
    {
     "data": {
      "application/vnd.jupyter.widget-view+json": {
       "model_id": "182e78f0fb074a6a9499f0cce0c52713",
       "version_major": 2,
       "version_minor": 0
      },
      "text/plain": [
       "landsat_14.tif: |          | 0.00/15.1M (raw) [  0.0%] in 00:00 (eta:     ?)"
      ]
     },
     "metadata": {},
     "output_type": "display_data"
    },
    {
     "name": "stdout",
     "output_type": "stream",
     "text": [
      "Downloading 15/31: /Users/gigisung/gigi_git/undatathon/nk_nationtal/tiles/landsat_15.tif\n"
     ]
    },
    {
     "data": {
      "application/vnd.jupyter.widget-view+json": {
       "model_id": "6603321081894766bf1a7c1e8c0e44d9",
       "version_major": 2,
       "version_minor": 0
      },
      "text/plain": [
       "landsat_15.tif: |          | 0.00/15.0M (raw) [  0.0%] in 00:00 (eta:     ?)"
      ]
     },
     "metadata": {},
     "output_type": "display_data"
    },
    {
     "name": "stdout",
     "output_type": "stream",
     "text": [
      "Downloading 16/31: /Users/gigisung/gigi_git/undatathon/nk_nationtal/tiles/landsat_16.tif\n"
     ]
    },
    {
     "data": {
      "application/vnd.jupyter.widget-view+json": {
       "model_id": "c662d8d21b1f4cccacff5bcb469c3d02",
       "version_major": 2,
       "version_minor": 0
      },
      "text/plain": [
       "landsat_16.tif: |          | 0.00/15.4M (raw) [  0.0%] in 00:00 (eta:     ?)"
      ]
     },
     "metadata": {},
     "output_type": "display_data"
    },
    {
     "name": "stdout",
     "output_type": "stream",
     "text": [
      "Downloading 17/31: /Users/gigisung/gigi_git/undatathon/nk_nationtal/tiles/landsat_17.tif\n"
     ]
    },
    {
     "data": {
      "application/vnd.jupyter.widget-view+json": {
       "model_id": "ac38addb8e714f059b7a215545ace1ff",
       "version_major": 2,
       "version_minor": 0
      },
      "text/plain": [
       "landsat_17.tif: |          | 0.00/15.9M (raw) [  0.0%] in 00:00 (eta:     ?)"
      ]
     },
     "metadata": {},
     "output_type": "display_data"
    },
    {
     "name": "stdout",
     "output_type": "stream",
     "text": [
      "Downloading 18/31: /Users/gigisung/gigi_git/undatathon/nk_nationtal/tiles/landsat_18.tif\n"
     ]
    },
    {
     "data": {
      "application/vnd.jupyter.widget-view+json": {
       "model_id": "5d135b79442748a6b002e21bdb5a3fa3",
       "version_major": 2,
       "version_minor": 0
      },
      "text/plain": [
       "landsat_18.tif: |          | 0.00/16.4M (raw) [  0.0%] in 00:00 (eta:     ?)"
      ]
     },
     "metadata": {},
     "output_type": "display_data"
    },
    {
     "name": "stdout",
     "output_type": "stream",
     "text": [
      "Downloading 19/31: /Users/gigisung/gigi_git/undatathon/nk_nationtal/tiles/landsat_19.tif\n"
     ]
    },
    {
     "data": {
      "application/vnd.jupyter.widget-view+json": {
       "model_id": "fc2e886c765745fca04f5b3ee8fa0884",
       "version_major": 2,
       "version_minor": 0
      },
      "text/plain": [
       "landsat_19.tif: |          | 0.00/15.4M (raw) [  0.0%] in 00:00 (eta:     ?)"
      ]
     },
     "metadata": {},
     "output_type": "display_data"
    },
    {
     "name": "stdout",
     "output_type": "stream",
     "text": [
      "Downloading 20/31: /Users/gigisung/gigi_git/undatathon/nk_nationtal/tiles/landsat_20.tif\n"
     ]
    },
    {
     "data": {
      "application/vnd.jupyter.widget-view+json": {
       "model_id": "8028ec67e10140b39c1255bc90f4a9e2",
       "version_major": 2,
       "version_minor": 0
      },
      "text/plain": [
       "landsat_20.tif: |          | 0.00/14.9M (raw) [  0.0%] in 00:00 (eta:     ?)"
      ]
     },
     "metadata": {},
     "output_type": "display_data"
    },
    {
     "name": "stdout",
     "output_type": "stream",
     "text": [
      "Downloading 21/31: /Users/gigisung/gigi_git/undatathon/nk_nationtal/tiles/landsat_21.tif\n"
     ]
    },
    {
     "data": {
      "application/vnd.jupyter.widget-view+json": {
       "model_id": "1d5e7c8c1dd542fa8325c1f345bf404e",
       "version_major": 2,
       "version_minor": 0
      },
      "text/plain": [
       "landsat_21.tif: |          | 0.00/14.8M (raw) [  0.0%] in 00:00 (eta:     ?)"
      ]
     },
     "metadata": {},
     "output_type": "display_data"
    },
    {
     "name": "stdout",
     "output_type": "stream",
     "text": [
      "Downloading 22/31: /Users/gigisung/gigi_git/undatathon/nk_nationtal/tiles/landsat_22.tif\n"
     ]
    },
    {
     "data": {
      "application/vnd.jupyter.widget-view+json": {
       "model_id": "b6511ca63af54d5190648f30fb48c9eb",
       "version_major": 2,
       "version_minor": 0
      },
      "text/plain": [
       "landsat_22.tif: |          | 0.00/15.2M (raw) [  0.0%] in 00:00 (eta:     ?)"
      ]
     },
     "metadata": {},
     "output_type": "display_data"
    },
    {
     "name": "stdout",
     "output_type": "stream",
     "text": [
      "Downloading 23/31: /Users/gigisung/gigi_git/undatathon/nk_nationtal/tiles/landsat_23.tif\n"
     ]
    },
    {
     "data": {
      "application/vnd.jupyter.widget-view+json": {
       "model_id": "67df0b84fa184250af86828c92afac25",
       "version_major": 2,
       "version_minor": 0
      },
      "text/plain": [
       "landsat_23.tif: |          | 0.00/15.7M (raw) [  0.0%] in 00:00 (eta:     ?)"
      ]
     },
     "metadata": {},
     "output_type": "display_data"
    },
    {
     "name": "stdout",
     "output_type": "stream",
     "text": [
      "Downloading 24/31: /Users/gigisung/gigi_git/undatathon/nk_nationtal/tiles/landsat_24.tif\n"
     ]
    },
    {
     "data": {
      "application/vnd.jupyter.widget-view+json": {
       "model_id": "452f94c130104966b376206a0ad57883",
       "version_major": 2,
       "version_minor": 0
      },
      "text/plain": [
       "landsat_24.tif: |          | 0.00/16.1M (raw) [  0.0%] in 00:00 (eta:     ?)"
      ]
     },
     "metadata": {},
     "output_type": "display_data"
    },
    {
     "name": "stdout",
     "output_type": "stream",
     "text": [
      "Downloading 25/31: /Users/gigisung/gigi_git/undatathon/nk_nationtal/tiles/landsat_25.tif\n"
     ]
    },
    {
     "data": {
      "application/vnd.jupyter.widget-view+json": {
       "model_id": "1612887403bb4782aa1a2ace14e639db",
       "version_major": 2,
       "version_minor": 0
      },
      "text/plain": [
       "landsat_25.tif: |          | 0.00/15.1M (raw) [  0.0%] in 00:00 (eta:     ?)"
      ]
     },
     "metadata": {},
     "output_type": "display_data"
    },
    {
     "name": "stdout",
     "output_type": "stream",
     "text": [
      "Downloading 26/31: /Users/gigisung/gigi_git/undatathon/nk_nationtal/tiles/landsat_26.tif\n"
     ]
    },
    {
     "data": {
      "application/vnd.jupyter.widget-view+json": {
       "model_id": "52dea7d8712d4f7ca841fea4b6c0101c",
       "version_major": 2,
       "version_minor": 0
      },
      "text/plain": [
       "landsat_26.tif: |          | 0.00/14.7M (raw) [  0.0%] in 00:00 (eta:     ?)"
      ]
     },
     "metadata": {},
     "output_type": "display_data"
    },
    {
     "name": "stdout",
     "output_type": "stream",
     "text": [
      "Downloading 27/31: /Users/gigisung/gigi_git/undatathon/nk_nationtal/tiles/landsat_27.tif\n"
     ]
    },
    {
     "data": {
      "application/vnd.jupyter.widget-view+json": {
       "model_id": "86fa0d2a72c2438981ef2a670d3dda2e",
       "version_major": 2,
       "version_minor": 0
      },
      "text/plain": [
       "landsat_27.tif: |          | 0.00/14.6M (raw) [  0.0%] in 00:00 (eta:     ?)"
      ]
     },
     "metadata": {},
     "output_type": "display_data"
    },
    {
     "name": "stdout",
     "output_type": "stream",
     "text": [
      "Downloading 28/31: /Users/gigisung/gigi_git/undatathon/nk_nationtal/tiles/landsat_28.tif\n"
     ]
    },
    {
     "data": {
      "application/vnd.jupyter.widget-view+json": {
       "model_id": "70fb8b73d5d94d4e962b15768cdfc7c0",
       "version_major": 2,
       "version_minor": 0
      },
      "text/plain": [
       "landsat_28.tif: |          | 0.00/15.0M (raw) [  0.0%] in 00:00 (eta:     ?)"
      ]
     },
     "metadata": {},
     "output_type": "display_data"
    },
    {
     "name": "stdout",
     "output_type": "stream",
     "text": [
      "Downloading 29/31: /Users/gigisung/gigi_git/undatathon/nk_nationtal/tiles/landsat_29.tif\n"
     ]
    },
    {
     "data": {
      "application/vnd.jupyter.widget-view+json": {
       "model_id": "16419025f8be4083b7fe0b4dfcee2dfc",
       "version_major": 2,
       "version_minor": 0
      },
      "text/plain": [
       "landsat_29.tif: |          | 0.00/15.4M (raw) [  0.0%] in 00:00 (eta:     ?)"
      ]
     },
     "metadata": {},
     "output_type": "display_data"
    },
    {
     "name": "stdout",
     "output_type": "stream",
     "text": [
      "Downloading 30/31: /Users/gigisung/gigi_git/undatathon/nk_nationtal/tiles/landsat_30.tif\n"
     ]
    },
    {
     "data": {
      "application/vnd.jupyter.widget-view+json": {
       "model_id": "fa1dfa76461747f5910a99f7b7c203a7",
       "version_major": 2,
       "version_minor": 0
      },
      "text/plain": [
       "landsat_30.tif: |          | 0.00/15.9M (raw) [  0.0%] in 00:00 (eta:     ?)"
      ]
     },
     "metadata": {},
     "output_type": "display_data"
    },
    {
     "name": "stdout",
     "output_type": "stream",
     "text": [
      "Downloading 31/31: /Users/gigisung/gigi_git/undatathon/nk_nationtal/tiles/landsat_31.tif\n"
     ]
    },
    {
     "data": {
      "application/vnd.jupyter.widget-view+json": {
       "model_id": "7bdb96a9a4f242d88db03d0b6bc3f2de",
       "version_major": 2,
       "version_minor": 0
      },
      "text/plain": [
       "landsat_31.tif: |          | 0.00/14.3M (raw) [  0.0%] in 00:00 (eta:     ?)"
      ]
     },
     "metadata": {},
     "output_type": "display_data"
    },
    {
     "name": "stdout",
     "output_type": "stream",
     "text": [
      "Downloaded 31 tiles in 475.74596190452576 seconds.\n"
     ]
    }
   ],
   "source": [
    "geemap.download_ee_image_tiles(\n",
    "    dataset, features, '/Users/gigisung/gigi_git/undatathon/nk_nationtal/tiles', prefix=\"landsat_\", crs=\"EPSG:5186\", scale=30\n",
    ")"
   ]
  },
  {
   "cell_type": "code",
   "execution_count": null,
   "metadata": {},
   "outputs": [],
   "source": []
  },
  {
   "cell_type": "markdown",
   "metadata": {},
   "source": [
    "## Merge"
   ]
  },
  {
   "cell_type": "code",
   "execution_count": null,
   "metadata": {},
   "outputs": [],
   "source": [
    "import rasterio\n",
    "from rasterio.merge import merge\n",
    "import glob\n",
    "import os\n",
    "\n",
    "# Get a list of all the tile files\n",
    "search_criteria = \"/Users/gigisung/gigi_git/undatathon/nk_nationtal/tiles/*.tif\"\n",
    "tile_files = glob.glob(search_criteria)\n",
    "\n",
    "# Open the tile files and add them to a list\n",
    "src_files_to_mosaic = [rasterio.open(fp) for fp in tile_files]\n",
    "\n",
    "# Merge the tile files\n",
    "mosaic, out_trans = merge(src_files_to_mosaic)\n",
    "\n",
    "# Write the merged file to disk\n",
    "out_meta = src_files_to_mosaic[0].meta.copy()\n",
    "out_meta.update({\"driver\": \"GTiff\",\n",
    "                 \"height\": mosaic.shape[1],\n",
    "                 \"width\": mosaic.shape[2],\n",
    "                 \"transform\": out_trans,\n",
    "                 \"crs\": src_files_to_mosaic[0].crs\n",
    "                 }\n",
    "                )\n",
    "\n",
    "out_fp = \"/Users/gigisung/gigi_git/undatathon/nk_nationtal/nk_national_merged.tif\"\n",
    "with rasterio.open(out_fp, \"w\", **out_meta) as dest:\n",
    "    dest.write(mosaic)\n"
   ]
  }
 ],
 "metadata": {
  "kernelspec": {
   "display_name": "gee",
   "language": "python",
   "name": "python3"
  },
  "language_info": {
   "codemirror_mode": {
    "name": "ipython",
    "version": 3
   },
   "file_extension": ".py",
   "mimetype": "text/x-python",
   "name": "python",
   "nbconvert_exporter": "python",
   "pygments_lexer": "ipython3",
   "version": "3.12.0"
  }
 },
 "nbformat": 4,
 "nbformat_minor": 2
}
